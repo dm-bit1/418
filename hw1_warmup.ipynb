{
  "cells": [
    {
      "cell_type": "markdown",
      "metadata": {
        "id": "view-in-github",
        "colab_type": "text"
      },
      "source": [
        "<a href=\"https://colab.research.google.com/github/dm-bit1/418/blob/main/hw1_warmup.ipynb\" target=\"_parent\"><img src=\"https://colab.research.google.com/assets/colab-badge.svg\" alt=\"Open In Colab\"/></a>"
      ]
    },
    {
      "cell_type": "markdown",
      "metadata": {
        "id": "qUpm1L30BPEu"
      },
      "source": [
        "# HW 1 (Warmup): Intro to Python\n",
        "\n",
        "UIC CS 418, Fall 2023\n",
        "\n",
        "This assignment gives an introduction to the main programming language and environment for the course: Python and Jupyter notebooks.\n",
        "\n",
        "* Set up Jupyter on your own computer.\n",
        "* Python basics, like defining functions.\n",
        "* Use the numpy library.\n",
        "* Matrix expressions.\n",
        "\n",
        "## Due Date\n",
        "\n",
        "The assignment is provided for your own benefit and it will not be graded. It does not need to be submitted anywhere. However, if you encounter any issues completing it, you should seek help through Piazza or during office hours. Posting solutions to this homework assignment is a violation of the academic integrity policy, as stated in the course syllabus."
      ]
    },
    {
      "cell_type": "markdown",
      "metadata": {
        "id": "pz2cOVjrBPEy"
      },
      "source": [
        "## Prerequisites\n",
        "\n",
        "### Running a Cell\n",
        "\n",
        "Try running the following cell by pressing Ctrl + Enter.  If you are unfamiliar with Jupyter Notebooks consider skimming [this tutorial](http://nbviewer.jupyter.org/github/jupyter/notebook/blob/master/docs/source/examples/Notebook/Notebook%20Basics.ipynb) or selecting **Help -> User Interface Tour** in the menu above."
      ]
    },
    {
      "cell_type": "code",
      "execution_count": null,
      "metadata": {
        "scrolled": false,
        "id": "QJtgq3VCBPEz"
      },
      "outputs": [],
      "source": [
        "print(\"Hello, world!\")"
      ]
    },
    {
      "cell_type": "markdown",
      "metadata": {
        "id": "blcKD__IBPE0"
      },
      "source": [
        "**Jupyter pro-tip**: Even if you are familiar with Jupyter, we strongly encourage you to become proficient with keyboard shortcuts (this will save you time in the future). To learn about keyboard shortcuts go to Tools -> Keyboard Shortcuts in the menu above. Our favorite shortcut is Ctrl+Enter which runs a cell. We also recommend creating a shortcut for clearing a cell's output by going to Tools -> Keyboard Shortcuts and entering \"Ctrl-o\" for \"clear selected output\".\n",
        "\n",
        "## Testing your Setup\n",
        "If you've set up your environment properly, this cell should run without problems:"
      ]
    },
    {
      "cell_type": "code",
      "execution_count": 1,
      "metadata": {
        "id": "gc0IRfo_BPE1"
      },
      "outputs": [],
      "source": [
        "import math\n",
        "import numpy as np\n",
        "import matplotlib\n",
        "%matplotlib inline\n",
        "import matplotlib.pyplot as plt\n",
        "plt.style.use('fivethirtyeight')\n",
        "import pandas as pd"
      ]
    },
    {
      "cell_type": "markdown",
      "metadata": {
        "id": "5CEIiNm5BPE1"
      },
      "source": [
        "### Python\n",
        "\n",
        "Python is the main programming language we will use in the course. Run each cell below and make sure you understand what is happening in each.\n",
        "\n",
        "If this seems difficult, please review one or more of the following materials.\n",
        "\n",
        "- **[Python Tutorial](https://docs.python.org/3/tutorial/index.html)**: Introduction to Python from the creators of Python\n",
        "- **[Composing Programs Chapter 1](http://composingprograms.com/pages/11-getting-started.html)**: This is more of a introduction to programming with Python.\n",
        "- **[Advanced Crash Course](http://cs231n.github.io/python-numpy-tutorial/)**: A fast crash course which assumes some programming background.\n",
        "\n",
        "#### Mathematical expressions"
      ]
    },
    {
      "cell_type": "code",
      "execution_count": 2,
      "metadata": {
        "id": "bSeW5NStBPE2",
        "colab": {
          "base_uri": "https://localhost:8080/"
        },
        "outputId": "ba4417d7-da47-425b-9ad8-aeb9a114194f"
      },
      "outputs": [
        {
          "output_type": "execute_result",
          "data": {
            "text/plain": [
              "0.3427354792736325"
            ]
          },
          "metadata": {},
          "execution_count": 2
        }
      ],
      "source": [
        "# This is a comment.\n",
        "# In Python, the ** operator performs exponentiation.\n",
        "math.sqrt(math.e ** (-math.pi + 1))"
      ]
    },
    {
      "cell_type": "markdown",
      "metadata": {
        "id": "KLa7pTgWBPE2"
      },
      "source": [
        "#### Printing"
      ]
    },
    {
      "cell_type": "code",
      "execution_count": 3,
      "metadata": {
        "id": "QWHuZDf-BPE2",
        "colab": {
          "base_uri": "https://localhost:8080/",
          "height": 53
        },
        "outputId": "80a1080e-e799-42b2-bbc4-1446d031c473"
      },
      "outputs": [
        {
          "output_type": "stream",
          "name": "stdout",
          "text": [
            "Hello, world!\n"
          ]
        },
        {
          "output_type": "execute_result",
          "data": {
            "text/plain": [
              "'Hello, celloutput!'"
            ],
            "application/vnd.google.colaboratory.intrinsic+json": {
              "type": "string"
            }
          },
          "metadata": {},
          "execution_count": 3
        }
      ],
      "source": [
        "\"Why didn't this line print?\"\n",
        "\n",
        "print(\"Hello\" + \",\", \"world!\")\n",
        "\n",
        "\"Hello, cell\" + \"output!\""
      ]
    },
    {
      "cell_type": "markdown",
      "metadata": {
        "id": "XrcONVPABPE3"
      },
      "source": [
        "#### For Loops"
      ]
    },
    {
      "cell_type": "code",
      "execution_count": 4,
      "metadata": {
        "id": "QghXtIDFBPE3",
        "colab": {
          "base_uri": "https://localhost:8080/"
        },
        "outputId": "fa76008e-f4f4-4cb5-a89a-b3f123c7100b"
      },
      "outputs": [
        {
          "output_type": "stream",
          "name": "stdout",
          "text": [
            "1\n",
            "Odd power of 2\n",
            "4\n",
            "Odd power of 2\n",
            "16\n"
          ]
        }
      ],
      "source": [
        "# A for loop repeats a block of code once for each\n",
        "# element in a given collection.\n",
        "for i in range(5):\n",
        "    if i % 2 == 0:\n",
        "        print(2**i)\n",
        "    else:\n",
        "        print(\"Odd power of 2\")"
      ]
    },
    {
      "cell_type": "markdown",
      "metadata": {
        "id": "T3BwzTtgBPE4"
      },
      "source": [
        "#### List comprehension"
      ]
    },
    {
      "cell_type": "code",
      "execution_count": 5,
      "metadata": {
        "id": "hnuJ4aRDBPE4",
        "colab": {
          "base_uri": "https://localhost:8080/"
        },
        "outputId": "78391344-3d75-4967-dcdd-43e4df1a4f55"
      },
      "outputs": [
        {
          "output_type": "execute_result",
          "data": {
            "text/plain": [
              "['1 sheep.', '2 sheep.', '3 sheep.', '4 sheep.']"
            ]
          },
          "metadata": {},
          "execution_count": 5
        }
      ],
      "source": [
        "[str(i) + \" sheep.\" for i in range(1,5)]"
      ]
    },
    {
      "cell_type": "code",
      "execution_count": 6,
      "metadata": {
        "id": "3L9ejbLzBPE4",
        "colab": {
          "base_uri": "https://localhost:8080/"
        },
        "outputId": "9ad8b4ff-ca65-485d-d598-6b9979c58920"
      },
      "outputs": [
        {
          "output_type": "execute_result",
          "data": {
            "text/plain": [
              "[0, 2, 4, 6, 8]"
            ]
          },
          "metadata": {},
          "execution_count": 6
        }
      ],
      "source": [
        "[i for i in range(10) if i % 2 == 0]"
      ]
    },
    {
      "cell_type": "markdown",
      "metadata": {
        "id": "leYEKqLjBPE4"
      },
      "source": [
        "#### Defining functions"
      ]
    },
    {
      "cell_type": "code",
      "execution_count": 7,
      "metadata": {
        "id": "lV8hTUB4BPE5"
      },
      "outputs": [],
      "source": [
        "def add2(x):\n",
        "    \"\"\"This docstring explains what this function does: it adds 2 to a number.\"\"\"\n",
        "    return x + 2"
      ]
    },
    {
      "cell_type": "markdown",
      "metadata": {
        "id": "zHmTOnHbBPE5"
      },
      "source": [
        "#### Getting help"
      ]
    },
    {
      "cell_type": "code",
      "execution_count": 8,
      "metadata": {
        "id": "qXttgX-kBPE5",
        "colab": {
          "base_uri": "https://localhost:8080/"
        },
        "outputId": "67350f75-9122-4700-aeb7-dcda4d87e8d7"
      },
      "outputs": [
        {
          "output_type": "stream",
          "name": "stdout",
          "text": [
            "Help on function add2 in module __main__:\n",
            "\n",
            "add2(x)\n",
            "    This docstring explains what this function does: it adds 2 to a number.\n",
            "\n"
          ]
        }
      ],
      "source": [
        "help(add2)"
      ]
    },
    {
      "cell_type": "code",
      "execution_count": 9,
      "metadata": {
        "id": "3pK3oJoyBPE5"
      },
      "outputs": [],
      "source": [
        "add2?"
      ]
    },
    {
      "cell_type": "markdown",
      "metadata": {
        "id": "spmYpgtsBPE5"
      },
      "source": [
        "You can close the window at the bottom by pressing esc.\n",
        "\n",
        "#### Passing functions as values"
      ]
    },
    {
      "cell_type": "code",
      "execution_count": 10,
      "metadata": {
        "id": "7XlMjYuIBPE6",
        "colab": {
          "base_uri": "https://localhost:8080/"
        },
        "outputId": "0d73dabd-062d-431c-8408-4955513bf8fe"
      },
      "outputs": [
        {
          "output_type": "execute_result",
          "data": {
            "text/plain": [
              "7"
            ]
          },
          "metadata": {},
          "execution_count": 10
        }
      ],
      "source": [
        "def makeAdder(amount):\n",
        "    \"\"\"Make a function that adds the given amount to a number.\"\"\"\n",
        "    def addAmount(x):\n",
        "        return x + amount\n",
        "    return addAmount\n",
        "\n",
        "add3 = makeAdder(3)\n",
        "add3(4)"
      ]
    },
    {
      "cell_type": "code",
      "execution_count": 11,
      "metadata": {
        "id": "_D1qMOx8BPE6",
        "colab": {
          "base_uri": "https://localhost:8080/"
        },
        "outputId": "8e69ce8b-055e-48da-f9d7-2b75c8ae4814"
      },
      "outputs": [
        {
          "output_type": "execute_result",
          "data": {
            "text/plain": [
              "7"
            ]
          },
          "metadata": {},
          "execution_count": 11
        }
      ],
      "source": [
        "makeAdder(3)(4)"
      ]
    },
    {
      "cell_type": "markdown",
      "metadata": {
        "id": "SwFleIauBPE6"
      },
      "source": [
        "#### Anonymous Functions and Lambdas"
      ]
    },
    {
      "cell_type": "code",
      "execution_count": 12,
      "metadata": {
        "id": "kbwOezkHBPE6",
        "colab": {
          "base_uri": "https://localhost:8080/"
        },
        "outputId": "dac5c382-92e4-4979-900c-9a7dd998f821"
      },
      "outputs": [
        {
          "output_type": "execute_result",
          "data": {
            "text/plain": [
              "9"
            ]
          },
          "metadata": {},
          "execution_count": 12
        }
      ],
      "source": [
        "# add4 is very similar to add2, but it's been created using a lambda expression.\n",
        "add4 = lambda x: x + 4\n",
        "add4(5)"
      ]
    },
    {
      "cell_type": "markdown",
      "metadata": {
        "id": "waCT4msLBPE6"
      },
      "source": [
        "#### Recursion"
      ]
    },
    {
      "cell_type": "code",
      "execution_count": 13,
      "metadata": {
        "id": "ZxnagoBTBPE7",
        "colab": {
          "base_uri": "https://localhost:8080/"
        },
        "outputId": "71925495-e0b8-4ba6-ada3-d0f3c90f7068"
      },
      "outputs": [
        {
          "output_type": "execute_result",
          "data": {
            "text/plain": [
              "13"
            ]
          },
          "metadata": {},
          "execution_count": 13
        }
      ],
      "source": [
        "def fib(n):\n",
        "    if n <= 1:\n",
        "        return 1\n",
        "    else:\n",
        "        # Functions can call themselves recursively.\n",
        "        return fib(n-1) + fib(n-2)\n",
        "\n",
        "fib(6)"
      ]
    },
    {
      "cell_type": "markdown",
      "metadata": {
        "id": "mHZT8F3GBPE7"
      },
      "source": [
        "### NumPy and Tables\n",
        "\n",
        "The `NumPy` library lets us do fast, simple computing with numbers in Python.\n",
        "\n",
        "You should be able to understand the code in the following cells. If not, review the following:\n",
        "\n",
        "* [DS100 Numpy Review](http://ds100.org/fa17/assets/notebooks/numpy/Numpy_Review.html)\n",
        "* [Condensed Numpy Review](http://cs231n.github.io/python-numpy-tutorial/#numpy)\n",
        "* [The Official Numpy Tutorial](https://docs.scipy.org/doc/numpy/user/quickstart.html)\n",
        "\n",
        "**Jupyter pro-tip**: Pull up the docs for any function in Jupyter by running a cell with\n",
        "the function name and a `?` at the end:"
      ]
    },
    {
      "cell_type": "code",
      "execution_count": 14,
      "metadata": {
        "id": "A_cxSKuWBPE7"
      },
      "outputs": [],
      "source": [
        "np.arange?"
      ]
    },
    {
      "cell_type": "markdown",
      "metadata": {
        "id": "TVA3z6ZYBPE7"
      },
      "source": [
        "**Jupyter pro-tip**: Pull up the docs for any function in Jupyter by typing the function\n",
        "name, then `<Shift>-<Tab>` on your keyboard. Super convenient when you forget the order\n",
        "of the arguments to a function. You can press `<Tab>` multiple tabs to expand the docs.\n",
        "\n",
        "Try it on the function below:"
      ]
    },
    {
      "cell_type": "code",
      "execution_count": null,
      "metadata": {
        "id": "5IOO9wxcBPE7"
      },
      "outputs": [],
      "source": [
        "np.linspace"
      ]
    },
    {
      "cell_type": "markdown",
      "metadata": {
        "id": "5jNxOKgPBPE8"
      },
      "source": [
        "You can use the tips above to help you decipher the following code."
      ]
    },
    {
      "cell_type": "code",
      "execution_count": 15,
      "metadata": {
        "id": "yq4t5htUBPE8",
        "colab": {
          "base_uri": "https://localhost:8080/"
        },
        "outputId": "aa024b77-9b41-450c-9f78-035eb8151e8c"
      },
      "outputs": [
        {
          "output_type": "execute_result",
          "data": {
            "text/plain": [
              "0.72675"
            ]
          },
          "metadata": {},
          "execution_count": 15
        }
      ],
      "source": [
        "# Let's take a 20-sided die...\n",
        "NUM_FACES = 20\n",
        "\n",
        "# ...and roll it 4 times\n",
        "rolls = 4\n",
        "\n",
        "# What's the probability that all 4 rolls are different? It's:\n",
        "# 20/20 * 19/20 * 18/20 * 17/20\n",
        "prob_diff = np.prod((NUM_FACES - np.arange(rolls))\n",
        "                    / NUM_FACES)\n",
        "prob_diff"
      ]
    },
    {
      "cell_type": "code",
      "execution_count": 16,
      "metadata": {
        "id": "5KApFA_FBPE8",
        "colab": {
          "base_uri": "https://localhost:8080/"
        },
        "outputId": "782f27f5-a748-443a-fd3e-f67fe406e0d5"
      },
      "outputs": [
        {
          "output_type": "execute_result",
          "data": {
            "text/plain": [
              "array([1.     , 0.95   , 0.855  , 0.72675, 0.5814 ])"
            ]
          },
          "metadata": {},
          "execution_count": 16
        }
      ],
      "source": [
        "# Let's compute that probability for 1 roll, 2 rolls, ..., 20 rolls.\n",
        "# The array ys will contain:\n",
        "#\n",
        "# 20/20\n",
        "# 20/20 * 19/20\n",
        "# 20/20 * 18/20\n",
        "# ...\n",
        "# 20/20 * 19/20 * ... * 1/20\n",
        "\n",
        "xs = np.arange(20)\n",
        "ys = np.cumprod((NUM_FACES - xs) / NUM_FACES)\n",
        "\n",
        "# Python slicing works on arrays too\n",
        "ys[:5]"
      ]
    },
    {
      "cell_type": "code",
      "execution_count": 17,
      "metadata": {
        "id": "13OtAUR1BPE8",
        "colab": {
          "base_uri": "https://localhost:8080/",
          "height": 495
        },
        "outputId": "0c9b6b42-77f6-4a1a-cfc6-e3ef9bb5ca8d"
      },
      "outputs": [
        {
          "output_type": "execute_result",
          "data": {
            "text/plain": [
              "Text(0, 0.5, 'P(all different)')"
            ]
          },
          "metadata": {},
          "execution_count": 17
        },
        {
          "output_type": "display_data",
          "data": {
            "text/plain": [
              "<Figure size 640x480 with 1 Axes>"
            ],
            "image/png": "[encoded data removed]"
          },
          "metadata": {}
        }
      ],
      "source": [
        "plt.plot(xs, ys, 'o-')\n",
        "plt.xlabel(\"Num Rolls\")\n",
        "plt.ylabel('P(all different)')\n"
      ]
    },
    {
      "cell_type": "markdown",
      "metadata": {
        "id": "hR5dSZuBBPE8"
      },
      "source": [
        "## Question 1\n",
        "\n",
        "#### Question 1a\n",
        "Write a function prime_nums_reversed that takes in an integer `n` and returns a string\n",
        "containing all prime numbers between 1 and `n` in reverse order, separated\n",
        "by spaces. For example:\n",
        "\n",
        "    >>> prime_nums_reversed(5)\n",
        "    '5 3 2'\n",
        "\n",
        "***Note:*** The ellipsis (`...`) indicates something you should fill in.  It *doesn't* necessarily imply you should replace it with only one line of code.\n",
        "\n",
        "***Complete the following block of code:***"
      ]
    },
    {
      "cell_type": "code",
      "execution_count": 18,
      "metadata": {
        "id": "Trf-Xg66BPE9",
        "colab": {
          "base_uri": "https://localhost:8080/"
        },
        "outputId": "6a6a112f-296d-45f7-fab6-f4e4162dbe77"
      },
      "outputs": [
        {
          "output_type": "stream",
          "name": "stdout",
          "text": [
            "13 11 7 5 3 2 "
          ]
        }
      ],
      "source": [
        "# determine if n is prime\n",
        "def isPrime(n):\n",
        "  for i in range(2,n):\n",
        "    if (n%i) == 0:\n",
        "      return False\n",
        "  return True\n",
        "# print the list\n",
        "def Print(res):\n",
        "  for i in range(0, len(res)):\n",
        "    print(res[i], end=\" \")\n",
        "# takes a list and returns all primes up to n\n",
        "def prime_nums_reversed(n, res):\n",
        "  for i in range(2,n):\n",
        "    if (isPrime(i)):\n",
        "      res.append(i)\n",
        "  if (isPrime(n)):\n",
        "    res.append(n)\n",
        "  res.reverse()\n",
        "# main\n",
        "res = []\n",
        "# test 1\n",
        "n = 13\n",
        "prime_nums_reversed(n, res)\n",
        "Print(res)"
      ]
    },
    {
      "cell_type": "markdown",
      "metadata": {
        "id": "B6X4-PFqBPE9"
      },
      "source": [
        "#### Question 1b\n",
        "\n",
        "Write a function `string_explosion` that takes in a non-empty string like\n",
        "`\"Code\"` and returns a long string containing every suffix of the input.\n",
        "For example:\n",
        "\n",
        "    >>> string_explosion('Code')\n",
        "    'Codeodedee'\n",
        "    >>> string_explosion('data!')\n",
        "    'data!ata!ta!a!!'\n",
        "    >>> string_explosion('hi')\n",
        "    'hii'\n",
        "\n",
        "**Hint:** Try to use recursion. Think about how you might answering the following two questions:\n",
        "1. **[Base Case]** What is the `string_explosion` of the empty string?\n",
        "1. **[Inductive Step]** If you had a `string_explosion` function for the last $n-1$ characters of your string how could you extend it to the $1^{st}$ character? For example, `string_explosion(\"ode\") = \"odedee\"` becomes `string_explosion(\"Code\") = \"Codeodedee\"`.\n",
        "\n",
        "***Complete the following block of code:***"
      ]
    },
    {
      "cell_type": "code",
      "execution_count": 19,
      "metadata": {
        "id": "7NVbWxsEBPE9",
        "colab": {
          "base_uri": "https://localhost:8080/"
        },
        "outputId": "60b6a4b7-6c08-4a33-c522-f04adde7f1ce"
      },
      "outputs": [
        {
          "output_type": "stream",
          "name": "stdout",
          "text": [
            "Codeodedee\n",
            "data!ata!ta!a!!\n",
            "hii\n"
          ]
        }
      ],
      "source": [
        "def string_explosion(myString):\n",
        "  res = myString # copy\n",
        "  for i in range(0,len(myString)):\n",
        "    for j in range(i+1, len(myString)):\n",
        "      res += myString[j]\n",
        "\n",
        "  print(res, end=\"\\n\")\n",
        "\n",
        "# main, test 1\n",
        "string_explosion(\"Code\")\n",
        "# test 2\n",
        "string_explosion(\"data!\")\n",
        "# test 3\n",
        "string_explosion(\"hi\")\n",
        "# test 4?"
      ]
    },
    {
      "cell_type": "markdown",
      "metadata": {
        "id": "rnsNhEF-BPE9"
      },
      "source": [
        "#### Question 1c\n",
        "\n",
        "Write a function `replace` that takes in two lists: `a` and `b`, and returns a list where the last element of `a` is replaced\n",
        "by the list `b`.\n",
        "\n",
        "    >>> combine([1, 2, 3, 4], [5, 6, 7, 8])\n",
        "    [1, 2, 3, 5, 6, 7, 8]\n",
        "    >>> combine([8, 4, 3], [4, 1, 3, 0, 10])\n",
        "    [8, 4, 4, 1, 3, 0, 10]\n",
        "\n",
        "***Complete the following block of code:***"
      ]
    },
    {
      "cell_type": "code",
      "execution_count": 20,
      "metadata": {
        "id": "VWkvY0saBPFG",
        "colab": {
          "base_uri": "https://localhost:8080/"
        },
        "outputId": "b1c07d1f-ec8d-4bcc-82a2-7135ce0a878d"
      },
      "outputs": [
        {
          "output_type": "stream",
          "name": "stdout",
          "text": [
            "[1, 2, 3, 5, 6, 7, 8]\n",
            "[8, 4, 4, 1, 3, 0, 10]\n"
          ]
        }
      ],
      "source": [
        "def replace(a, b):\n",
        "  res = a\n",
        "  n = len(res)-1\n",
        "  res.pop(n)\n",
        "  res = res + b\n",
        "  return res\n",
        "# main, test 1\n",
        "a = [1,2,3,4]\n",
        "b = [5,6,7,8]\n",
        "myL = replace(a,b)\n",
        "print(myL)\n",
        "# test 2\n",
        "a = [8,4,3]\n",
        "b = [4,1,3,0,10]\n",
        "myL = replace(a, b)\n",
        "print(myL)"
      ]
    },
    {
      "cell_type": "markdown",
      "metadata": {
        "id": "RNjuO9kPBPFH"
      },
      "source": [
        "### Question 2\n",
        "\n",
        "In this question, we'll ask you to use your linear algebra knowledge to fill in NumPy matrices. To conduct matrix multiplication in NumPy, you should write code like the following:\n"
      ]
    },
    {
      "cell_type": "code",
      "execution_count": 21,
      "metadata": {
        "id": "88QvHQZrBPFH"
      },
      "outputs": [],
      "source": [
        "import numpy as np\n",
        "# A matrix in NumPy is simply a 2-dimensional NumPy array\n",
        "matA = np.array([\n",
        "    [1, 2, 3],\n",
        "    [4, 5, 6],\n",
        "])\n",
        "\n",
        "matB = np.array([\n",
        "    [10, 11],\n",
        "    [12, 13],\n",
        "    [14, 15],\n",
        "])\n",
        "# Assume only regular matrices\n",
        "def Multiply(matA, matB):\n",
        "  n = len(matA)\n",
        "  m = len(matB[0])\n",
        "  p = len(matB)\n",
        "  matR = np.array([])\n",
        "  # note, it should catch when a is not equal to b\n",
        "  for i in range(0, n):\n",
        "    for j in range(0, m):\n",
        "      for k in range(0, p):\n",
        "        matR[i][j] += matA[i][k] * matB[k][j]\n",
        "\n",
        "  return matR\n",
        "\n",
        "# The notation B @ v means: compute the matrix multiplication Bv\n",
        "# to do; test it out and trace"
      ]
    },
    {
      "cell_type": "markdown",
      "metadata": {
        "id": "E105SOQYBPFH"
      },
      "source": [
        "You can also use the same syntax to do matrix-vector multiplication or vector dot products."
      ]
    },
    {
      "cell_type": "code",
      "execution_count": 26,
      "metadata": {
        "id": "Sznpvy37BPFH",
        "colab": {
          "base_uri": "https://localhost:8080/"
        },
        "outputId": "854a5aee-6089-4992-a705-ec25043e9bb0"
      },
      "outputs": [
        {
          "output_type": "stream",
          "name": "stdout",
          "text": [
            "[ 76 184]\n",
            "760\n"
          ]
        }
      ],
      "source": [
        "matA = np.array([\n",
        "    [1, 2, 3],\n",
        "    [4, 5, 6],\n",
        "])\n",
        "\n",
        "# A vector in NumPy is simply a 1-dimensional NumPy array\n",
        "some_vec = np.array([ 10, 12, 14, ])\n",
        "\n",
        "another_vec = np.array([ 10, 20, 30 ])\n",
        "\n",
        "print(matA @ some_vec)\n",
        "print(some_vec @ another_vec)"
      ]
    },
    {
      "cell_type": "markdown",
      "metadata": {
        "id": "NjZfSrvWBPFI"
      },
      "source": [
        "#### Question 2a\n",
        "\n",
        "Bob, Daniela, and Luke are shopping for fruit at a store that only sells fruit bowls. A fruit bowl contains some fruit and the price of a fruit bowl is the total price of all of its individual fruit.\n",
        "\n",
        "The store has mangos for \\$1.00, strawberries \\$3.00, and apricots \\$5.00. The price of each of these can be written in a vector:\n",
        "\n",
        "$$\n",
        "\\vec{v} = \\begin{bmatrix}\n",
        "     1 \\\\\n",
        "     3 \\\\\n",
        "     5 \\\\\n",
        "\\end{bmatrix}\n",
        "$$\n",
        "\n",
        "The store sells the following fruit bowls:\n",
        "\n",
        "#1: 4 of each fruit\n",
        "#2: 1 mangos and 3 apricots\n",
        "#3: 4 strawberries and 2 apricots\n",
        "#4: 12 apricots\n",
        "\n",
        "Create a 2-dimensional numpy array encoding the matrix $B$ such that the matrix-vector multiplication\n",
        "\n",
        "$$\n",
        "B\\vec{v}\n",
        "$$\n",
        "\n",
        "evaluates to a length 4 column vector containing the price of each fruit bowl. The first entry of the result should be the cost of fruit bowl #1, the second entry the cost of fruit bowl #2, etc.\n",
        "\n",
        "***Complete the following block of code:***"
      ]
    },
    {
      "cell_type": "code",
      "execution_count": 34,
      "metadata": {
        "id": "F3l56XfNBPFI",
        "colab": {
          "base_uri": "https://localhost:8080/"
        },
        "outputId": "bf347f77-2835-4441-d4a0-dc6663553935"
      },
      "outputs": [
        {
          "output_type": "stream",
          "name": "stdout",
          "text": [
            "[36 16 22 60]\n"
          ]
        }
      ],
      "source": [
        "v = np.array([1,3,5])\n",
        "\n",
        "def bowl_cost(v):\n",
        "    b = np.array([[4,4,4],[1,0,3],[0,4,2],[0,0,12]])\n",
        "    # The notation B @ v means: compute the matrix multiplication Bv\n",
        "    return b @ v\n",
        "\n",
        "print(bowl_cost(v))"
      ]
    },
    {
      "cell_type": "markdown",
      "metadata": {
        "id": "f0HGQnErBPFI"
      },
      "source": [
        "#### Question 2b\n",
        "\n",
        "Bob, Daniela, and Luke make the following purchases:\n",
        "\n",
        "- Bob buys 3 fruit bowl #2's and 2 fruit bowl #3.\n",
        "- Daniela buys 2 of each fruit bowl.\n",
        "- Luke buys 10 fruit bowl #4s (he really likes apricots).\n",
        "\n",
        "Create a matrix $A$ such that the matrix expression\n",
        "\n",
        "$$\n",
        "AB\\vec{v}\n",
        "$$\n",
        "\n",
        "evaluates to a length 3 column vector containing how much each of them spent. The first entry of the result should be the total amount spent by Bob, the second entry the amount sent by Daniela, etc.\n",
        "\n",
        "***Complete the following block of code:***"
      ]
    },
    {
      "cell_type": "code",
      "execution_count": 39,
      "metadata": {
        "id": "D5Mn5izMBPFI",
        "colab": {
          "base_uri": "https://localhost:8080/"
        },
        "outputId": "35eb47ee-be25-4775-e0a1-366a37f4fff1"
      },
      "outputs": [
        {
          "output_type": "stream",
          "name": "stdout",
          "text": [
            "3896\n"
          ]
        }
      ],
      "source": [
        "def amount_spent(v, B):\n",
        "    A = np.array([[0, 3, 2, 0],[2,2,2,2],[0,0,0,10]])\n",
        "\n",
        "    return A @ B @ v\n",
        "\n",
        "v = np.array([1,3,5])\n",
        "b = bowl_cost(v)\n",
        "cost = amount_spent(v,b)\n",
        "print(cost)"
      ]
    },
    {
      "cell_type": "markdown",
      "metadata": {
        "id": "JCIOpCl-BPFJ"
      },
      "source": [
        "#### Question 2c\n",
        "\n",
        "Let's suppose the store changes their fruit prices, but you don't know what they changed their prices to. Bob, Daniela, and Luke buy the same quantity of fruit baskets and the number of fruit in each basket is the same, but now they each spent these amounts:\n",
        "\n",
        "$$\n",
        "\\vec{x} = \\begin{bmatrix}\n",
        "    40 \\\\\n",
        "    100 \\\\\n",
        "    120 \\\\\n",
        "\\end{bmatrix}\n",
        "$$\n",
        "\n",
        "Use `np.linalg.inv` and the above final costs to compute the new prices for the individual fruits.\n",
        "\n",
        "***Complete the following block of code:***"
      ]
    },
    {
      "cell_type": "code",
      "execution_count": 51,
      "metadata": {
        "id": "taljZUNiBPFJ"
      },
      "outputs": [],
      "source": [
        "def new_price(A, B, x):\n",
        "    # Compute the new prices using pseudoinverse of B, then multiply with A and x\n",
        "    B_pseudo_inv = np.linalg.pinv(B)\n",
        "    new_v = B_pseudo_inv @ A @ x\n",
        "    return new_v\n",
        "\n",
        "# Define matrices A and B, and vector p\n",
        "b = np.array([[4, 4, 4], [1, 0, 3], [0, 4, 2], [0, 0, 12]])\n",
        "a = np.array([[0, 3, 2, 0], [2, 2, 2, 2], [0, 0, 0, 10]])\n",
        "p = np.array([40, 100, 120])\n"
      ]
    },
    {
      "cell_type": "code",
      "execution_count": 52,
      "metadata": {
        "id": "RdFtjdkwBPFJ",
        "colab": {
          "base_uri": "https://localhost:8080/",
          "height": 349
        },
        "outputId": "17c0ed89-1891-4136-cb5f-fef7d330a435"
      },
      "outputs": [
        {
          "output_type": "error",
          "ename": "ValueError",
          "evalue": "ignored",
          "traceback": [
            "\u001b[0;31m---------------------------------------------------------------------------\u001b[0m",
            "\u001b[0;31mValueError\u001b[0m                                Traceback (most recent call last)",
            "\u001b[0;32m<ipython-input-52-9e1c815fa8f1>\u001b[0m in \u001b[0;36m<cell line: 5>\u001b[0;34m()\u001b[0m\n\u001b[1;32m      3\u001b[0m \u001b[0ma\u001b[0m \u001b[0;34m=\u001b[0m \u001b[0mnp\u001b[0m\u001b[0;34m.\u001b[0m\u001b[0marray\u001b[0m\u001b[0;34m(\u001b[0m\u001b[0;34m[\u001b[0m\u001b[0;34m[\u001b[0m\u001b[0;36m0\u001b[0m\u001b[0;34m,\u001b[0m \u001b[0;36m3\u001b[0m\u001b[0;34m,\u001b[0m \u001b[0;36m2\u001b[0m\u001b[0;34m,\u001b[0m \u001b[0;36m0\u001b[0m\u001b[0;34m]\u001b[0m\u001b[0;34m,\u001b[0m \u001b[0;34m[\u001b[0m\u001b[0;36m2\u001b[0m\u001b[0;34m,\u001b[0m \u001b[0;36m2\u001b[0m\u001b[0;34m,\u001b[0m \u001b[0;36m2\u001b[0m\u001b[0;34m,\u001b[0m \u001b[0;36m2\u001b[0m\u001b[0;34m]\u001b[0m\u001b[0;34m,\u001b[0m \u001b[0;34m[\u001b[0m\u001b[0;36m0\u001b[0m\u001b[0;34m,\u001b[0m \u001b[0;36m0\u001b[0m\u001b[0;34m,\u001b[0m \u001b[0;36m0\u001b[0m\u001b[0;34m,\u001b[0m \u001b[0;36m10\u001b[0m\u001b[0;34m]\u001b[0m\u001b[0;34m]\u001b[0m\u001b[0;34m)\u001b[0m\u001b[0;34m\u001b[0m\u001b[0;34m\u001b[0m\u001b[0m\n\u001b[1;32m      4\u001b[0m \u001b[0mp\u001b[0m \u001b[0;34m=\u001b[0m \u001b[0mnp\u001b[0m\u001b[0;34m.\u001b[0m\u001b[0marray\u001b[0m\u001b[0;34m(\u001b[0m\u001b[0;34m[\u001b[0m\u001b[0;36m40\u001b[0m\u001b[0;34m,\u001b[0m \u001b[0;36m100\u001b[0m\u001b[0;34m,\u001b[0m \u001b[0;36m120\u001b[0m\u001b[0;34m]\u001b[0m\u001b[0;34m)\u001b[0m\u001b[0;34m\u001b[0m\u001b[0;34m\u001b[0m\u001b[0m\n\u001b[0;32m----> 5\u001b[0;31m \u001b[0mnew_pr\u001b[0m \u001b[0;34m=\u001b[0m \u001b[0mnew_price\u001b[0m\u001b[0;34m(\u001b[0m\u001b[0ma\u001b[0m\u001b[0;34m,\u001b[0m\u001b[0mb\u001b[0m\u001b[0;34m,\u001b[0m\u001b[0mp\u001b[0m\u001b[0;34m)\u001b[0m\u001b[0;34m\u001b[0m\u001b[0;34m\u001b[0m\u001b[0m\n\u001b[0m\u001b[1;32m      6\u001b[0m \u001b[0mprint\u001b[0m\u001b[0;34m(\u001b[0m\u001b[0mnew_pr\u001b[0m\u001b[0;34m)\u001b[0m\u001b[0;34m\u001b[0m\u001b[0;34m\u001b[0m\u001b[0m\n",
            "\u001b[0;32m<ipython-input-51-61400d89c02e>\u001b[0m in \u001b[0;36mnew_price\u001b[0;34m(A, B, x)\u001b[0m\n\u001b[1;32m      2\u001b[0m     \u001b[0;31m# Compute the new prices using pseudoinverse of B, then multiply with A and x\u001b[0m\u001b[0;34m\u001b[0m\u001b[0;34m\u001b[0m\u001b[0m\n\u001b[1;32m      3\u001b[0m     \u001b[0mB_pseudo_inv\u001b[0m \u001b[0;34m=\u001b[0m \u001b[0mnp\u001b[0m\u001b[0;34m.\u001b[0m\u001b[0mlinalg\u001b[0m\u001b[0;34m.\u001b[0m\u001b[0mpinv\u001b[0m\u001b[0;34m(\u001b[0m\u001b[0mB\u001b[0m\u001b[0;34m)\u001b[0m\u001b[0;34m\u001b[0m\u001b[0;34m\u001b[0m\u001b[0m\n\u001b[0;32m----> 4\u001b[0;31m     \u001b[0mnew_v\u001b[0m \u001b[0;34m=\u001b[0m \u001b[0mB_pseudo_inv\u001b[0m \u001b[0;34m@\u001b[0m \u001b[0mA\u001b[0m \u001b[0;34m@\u001b[0m \u001b[0mx\u001b[0m\u001b[0;34m\u001b[0m\u001b[0;34m\u001b[0m\u001b[0m\n\u001b[0m\u001b[1;32m      5\u001b[0m     \u001b[0;32mreturn\u001b[0m \u001b[0mnew_v\u001b[0m\u001b[0;34m\u001b[0m\u001b[0;34m\u001b[0m\u001b[0m\n\u001b[1;32m      6\u001b[0m \u001b[0;34m\u001b[0m\u001b[0m\n",
            "\u001b[0;31mValueError\u001b[0m: matmul: Input operand 1 has a mismatch in its core dimension 0, with gufunc signature (n?,k),(k,m?)->(n?,m?) (size 3 is different from 4)"
          ]
        }
      ],
      "source": [
        "# Define matrices A and B, and vector p\n",
        "b = np.array([[4, 4, 4], [1, 0, 3], [0, 4, 2], [0, 0, 12]])\n",
        "a = np.array([[0, 3, 2, 0], [2, 2, 2, 2], [0, 0, 0, 10]])\n",
        "p = np.array([40, 100, 120])\n",
        "new_pr = new_price(a,b,p)\n",
        "print(new_pr)"
      ]
    }
  ],
  "metadata": {
    "kernelspec": {
      "display_name": "Python 3 (ipykernel)",
      "language": "python",
      "name": "python3"
    },
    "language_info": {
      "codemirror_mode": {
        "name": "ipython",
        "version": 3
      },
      "file_extension": ".py",
      "mimetype": "text/x-python",
      "name": "python",
      "nbconvert_exporter": "python",
      "pygments_lexer": "ipython3",
      "version": "3.8.12"
    },
    "colab": {
      "provenance": [],
      "include_colab_link": true
    }
  },
  "nbformat": 4,
  "nbformat_minor": 0
}